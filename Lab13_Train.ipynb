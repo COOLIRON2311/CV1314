{
 "cells": [
  {
   "cell_type": "code",
   "execution_count": 49,
   "id": "4d42ecf3-cd2a-493f-a6d4-82ce4ec14d4c",
   "metadata": {},
   "outputs": [],
   "source": [
    "import os\n",
    "import cv2\n",
    "import joblib\n",
    "import numpy as np\n",
    "from sklearn.cluster import KMeans\n"
   ]
  },
  {
   "cell_type": "code",
   "execution_count": 50,
   "id": "45ed03a0-70ba-425d-a854-17c11a545425",
   "metadata": {},
   "outputs": [],
   "source": [
    "def extract_sift_descriptors(image_path: np.ndarray, sift: cv2.SIFT) -> np.ndarray:\n",
    "    image = cv2.imread(image_path, cv2.IMREAD_GRAYSCALE)\n",
    "    _, descriptors = sift.detectAndCompute(image, None)\n",
    "    return descriptors\n"
   ]
  },
  {
   "cell_type": "code",
   "execution_count": 51,
   "id": "e04cb90a-4ffb-47a7-bbe5-4c137d74a8d7",
   "metadata": {},
   "outputs": [],
   "source": [
    "def get_all_descriptors(folder_path: str, sift: cv2.SIFT) -> list:\n",
    "    all_descriptors = []\n",
    "    for filename in os.listdir(folder_path):\n",
    "        if filename.endswith(('.jpg', '.jpeg', '.png')):\n",
    "            image_path = os.path.join(folder_path, filename)\n",
    "            descriptors = extract_sift_descriptors(image_path, sift)\n",
    "            all_descriptors.append(descriptors)\n",
    "    return all_descriptors\n"
   ]
  },
  {
   "cell_type": "code",
   "execution_count": 52,
   "id": "f53f00cb-62e3-47be-b9f3-2c6e03af0922",
   "metadata": {},
   "outputs": [],
   "source": [
    "sift = cv2.SIFT.create()\n",
    "folder_path = 'coco128/images/train2017'\n",
    "descriptors = get_all_descriptors(folder_path, sift)\n"
   ]
  },
  {
   "cell_type": "code",
   "execution_count": 53,
   "id": "57a5f31a-8cad-442b-9c89-ae71513c071d",
   "metadata": {},
   "outputs": [],
   "source": [
    "descriptors = np.concatenate(descriptors, axis=0)\n"
   ]
  },
  {
   "cell_type": "code",
   "execution_count": 54,
   "id": "0d4b1993-8319-4d74-90c9-5f20ca9c787f",
   "metadata": {},
   "outputs": [],
   "source": [
    "descriptors_size = 1000 # 1000+\n",
    "descriptors = descriptors[np.random.choice(\n",
    "    descriptors.shape[0],\n",
    "    size=descriptors_size,\n",
    "    replace=False)\n",
    "]\n"
   ]
  },
  {
   "cell_type": "code",
   "execution_count": 55,
   "id": "babae323-65ee-4719-a8d9-aa4695404775",
   "metadata": {},
   "outputs": [
    {
     "data": {
      "text/plain": [
       "array([[ 14.,  11.,  17., ...,  11.,   8.,   4.],\n",
       "       [  1.,  85.,  53., ...,   7.,  50.,  47.],\n",
       "       [ 28.,  28.,  92., ...,   6.,  47.,  59.],\n",
       "       ...,\n",
       "       [  0.,   0.,   0., ...,   0.,  56., 127.],\n",
       "       [  0.,   0.,   0., ...,   0.,   0.,   0.],\n",
       "       [ 66.,   9.,   7., ...,   2.,   0.,   0.]], dtype=float32)"
      ]
     },
     "execution_count": 55,
     "metadata": {},
     "output_type": "execute_result"
    }
   ],
   "source": [
    "descriptors\n"
   ]
  },
  {
   "cell_type": "code",
   "execution_count": 56,
   "id": "18918e4e-a3fc-40fc-85b0-8ad5dab5ab17",
   "metadata": {},
   "outputs": [],
   "source": [
    "n_clusters = 1024  # (512-2048)\n",
    "kmeans = KMeans(n_clusters=n_clusters, n_init=10, random_state=0).fit(descriptors)\n"
   ]
  },
  {
   "cell_type": "code",
   "execution_count": 57,
   "id": "ea2c9eac-0b99-432c-80b0-2978b107f505",
   "metadata": {},
   "outputs": [
    {
     "data": {
      "text/plain": [
       "['kmeans_20000_1024.joblib']"
      ]
     },
     "execution_count": 57,
     "metadata": {},
     "output_type": "execute_result"
    }
   ],
   "source": [
    "model_filename = f'kmeans_{descriptors_size}_{n_clusters}.joblib'\n",
    "joblib.dump(kmeans, model_filename)\n"
   ]
  }
 ],
 "metadata": {
  "kernelspec": {
   "display_name": "Python 3 (ipykernel)",
   "language": "python",
   "name": "python3"
  },
  "language_info": {
   "codemirror_mode": {
    "name": "ipython",
    "version": 3
   },
   "file_extension": ".py",
   "mimetype": "text/x-python",
   "name": "python",
   "nbconvert_exporter": "python",
   "pygments_lexer": "ipython3",
   "version": "3.10.11"
  }
 },
 "nbformat": 4,
 "nbformat_minor": 5
}
