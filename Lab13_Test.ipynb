{
 "cells": [
  {
   "cell_type": "code",
   "execution_count": 56,
   "id": "cfd795af-c389-4f32-b054-748ab83a0c2a",
   "metadata": {},
   "outputs": [],
   "source": [
    "import os\n",
    "import time\n",
    "import random\n",
    "import cv2\n",
    "import joblib\n",
    "import numpy as np\n",
    "import pandas as pd\n",
    "from sklearn.cluster import KMeans"
   ]
  },
  {
   "cell_type": "code",
   "execution_count": 57,
   "id": "c632bdad-6007-46ef-812b-c64bebb906be",
   "metadata": {},
   "outputs": [],
   "source": [
    "def get_random_image_path(folder_path: str, seed: int = None) -> str:\n",
    "  imgs = os.listdir(folder_path)\n",
    "  img = imgs[np.random.RandomState(seed).randint(0, len(imgs))]\n",
    "  img_path = os.path.join(folder_path, img)\n",
    "  return img_path"
   ]
  },
  {
   "cell_type": "code",
   "execution_count": 58,
   "id": "4b688824-544e-4ee7-b57c-66e705f67bcc",
   "metadata": {},
   "outputs": [],
   "source": [
    "def get_d_from_image(image: np.ndarray) -> np.ndarray:\n",
    "  sift = cv2.SIFT_create()\n",
    "  keypoints, descriptors = sift.detectAndCompute(image, None)\n",
    "  return descriptors"
   ]
  },
  {
   "cell_type": "code",
   "execution_count": 59,
   "id": "27e47406-4248-491f-b55d-0a637064af0d",
   "metadata": {},
   "outputs": [],
   "source": [
    "def img_path_to_bovw(descriptors: np.ndarray, kmeans: KMeans) -> np.ndarray:\n",
    "  image = cv2.imread(img_path, cv2.IMREAD_GRAYSCALE)\n",
    "  sift = cv2.SIFT_create()\n",
    "  keypoints, descriptors = sift.detectAndCompute(image, None)\n",
    "  predictions = kmeans.predict(descriptors)\n",
    "  histogram = np.bincount(predictions, minlength=kmeans.n_clusters)\n",
    "  histogram = histogram / np.sum(histogram)\n",
    "  return histogram"
   ]
  },
  {
   "cell_type": "code",
   "execution_count": 60,
   "id": "9115dd39-5a30-40b4-aec9-946a915ff32f",
   "metadata": {},
   "outputs": [],
   "source": [
    "kmeans = joblib.load(\"kmeans_1000_512.joblib\")"
   ]
  },
  {
   "cell_type": "code",
   "execution_count": 61,
   "id": "67ec78a7-ee4b-4d61-baab-e6914970f014",
   "metadata": {},
   "outputs": [],
   "source": [
    "folder_path = \"VOCdevkit/VOC2012/JPEGImages\""
   ]
  },
  {
   "cell_type": "code",
   "execution_count": 62,
   "id": "1774c2d3-7c1f-4d30-bf6f-1541e36dcb69",
   "metadata": {},
   "outputs": [],
   "source": [
    "db_image = [os.path.join(folder_path, img_name) for img_name in os.listdir(folder_path)[:1000]]"
   ]
  },
  {
   "cell_type": "code",
   "execution_count": 63,
   "id": "04209a0f-7db7-4ed1-a0f2-8f8b6d372e49",
   "metadata": {},
   "outputs": [],
   "source": [
    "db = [img_path_to_bovw(img_path, kmeans) for img_path in db_image]"
   ]
  },
  {
   "cell_type": "code",
   "execution_count": 64,
   "id": "2ccb9c14-21ec-49c2-9cb6-b45af99cc111",
   "metadata": {},
   "outputs": [],
   "source": [
    "df = pd.DataFrame({\n",
    "    \"path\": db_image,\n",
    "    \"vector\": db\n",
    "}) "
   ]
  },
  {
   "cell_type": "code",
   "execution_count": 65,
   "id": "cd30316e-e9d8-46bb-bd3d-424c179f11be",
   "metadata": {},
   "outputs": [],
   "source": [
    "df.to_csv(f\"export_{time.time()}.csv\")"
   ]
  },
  {
   "cell_type": "code",
   "execution_count": null,
   "id": "48ff57b0-aaa4-4c85-ad98-f2799bd21d50",
   "metadata": {},
   "outputs": [],
   "source": []
  }
 ],
 "metadata": {
  "kernelspec": {
   "display_name": "Python 3 (ipykernel)",
   "language": "python",
   "name": "python3"
  },
  "language_info": {
   "codemirror_mode": {
    "name": "ipython",
    "version": 3
   },
   "file_extension": ".py",
   "mimetype": "text/x-python",
   "name": "python",
   "nbconvert_exporter": "python",
   "pygments_lexer": "ipython3",
   "version": "3.11.4"
  }
 },
 "nbformat": 4,
 "nbformat_minor": 5
}
